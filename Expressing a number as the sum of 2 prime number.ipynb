{
 "cells": [
  {
   "cell_type": "code",
   "execution_count": 14,
   "metadata": {},
   "outputs": [
    {
     "name": "stdout",
     "output_type": "stream",
     "text": [
      "Enter n : 81\n",
      "80 can't be expressed as the sum of 2 prime number.\n"
     ]
    }
   ],
   "source": [
    "def chpr(x):\n",
    "    a=list()\n",
    "    for i in range(2,x+1):\n",
    "        if i>3 and (int(i%2) and int(i%3) and int(i%4) and int(i%5 and int(i%6) and int(i%7) and int(i%8) and int(i%9) and int(i%10)))!=0:\n",
    "            a.append(i)\n",
    "        elif i<=3 and int(i%2)!=0:\n",
    "            a.append(i)\n",
    "    return a\n",
    "def ch(n):\n",
    "    flag=0\n",
    "    for i in range(2,n):\n",
    "        if i in chpr(i) and n-i in chpr(n-i):\n",
    "            print(str(n)+\" can be expressed as the sum of \"+str(i) +\" and \"+str(n-i)+\".\")\n",
    "            flag=1\n",
    "    if flag!=1:\n",
    "        print(str(i)+\" can't be expressed as the sum of 2 prime number.\")\n",
    "n=int(input(\"Enter n : \"))\n",
    "ch(n)"
   ]
  },
  {
   "cell_type": "code",
   "execution_count": null,
   "metadata": {},
   "outputs": [],
   "source": []
  },
  {
   "cell_type": "markdown",
   "metadata": {},
   "source": [
    " "
   ]
  }
 ],
 "metadata": {
  "kernelspec": {
   "display_name": "Python 3",
   "language": "python",
   "name": "python3"
  },
  "language_info": {
   "codemirror_mode": {
    "name": "ipython",
    "version": 3
   },
   "file_extension": ".py",
   "mimetype": "text/x-python",
   "name": "python",
   "nbconvert_exporter": "python",
   "pygments_lexer": "ipython3",
   "version": "3.6.3"
  }
 },
 "nbformat": 4,
 "nbformat_minor": 2
}
