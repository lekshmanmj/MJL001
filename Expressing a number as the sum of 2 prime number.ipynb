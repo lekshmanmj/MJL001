{
 "cells": [
  {
   "cell_type": "code",
   "execution_count": 53,
   "metadata": {},
   "outputs": [
    {
     "name": "stdout",
     "output_type": "stream",
     "text": [
      "Enter n : 12\n",
      "[2, 3, 5, 7, 11]  are the prime numbers upto  12\n",
      "12  can be expressed as sum of prime numbers  5  and  7\n",
      "12  can be expressed as sum of prime numbers  7  and  5\n"
     ]
    }
   ],
   "source": [
    "#Expressing given number as sum of 2 prime number if possible\n",
    "a=list()\n",
    "n=int(input(\"Enter n : \"))\n",
    "for i in range(2,n+1):\n",
    "    for j in range(2,i):\n",
    "        if (i % j) == 0:\n",
    "            break\n",
    "    else:\n",
    "        a.append(i)\n",
    "flag=0\n",
    "flag1=0\n",
    "print(a,\" are the prime numbers upto \",n\".\")\n",
    "for i in range(2,n+1):\n",
    "    if (i + (n-i))==n :\n",
    "        if i in a and (n-i) in a and (n-i)!=0:\n",
    "            print(n,\" can be expressed as sum of prime numbers \",i,\" and \",n-i)\n",
    "            flag1=1\n",
    "        else:\n",
    "            flag=1\n",
    "if flag==1 and flag1!=1:\n",
    "    print(n,\" can't be expressed as sum of 2 prime number.\")"
   ]
  },
  {
   "cell_type": "code",
   "execution_count": null,
   "metadata": {},
   "outputs": [],
   "source": []
  },
  {
   "cell_type": "markdown",
   "metadata": {},
   "source": [
    " "
   ]
  }
 ],
 "metadata": {
  "kernelspec": {
   "display_name": "Python 3",
   "language": "python",
   "name": "python3"
  },
  "language_info": {
   "codemirror_mode": {
    "name": "ipython",
    "version": 3
   },
   "file_extension": ".py",
   "mimetype": "text/x-python",
   "name": "python",
   "nbconvert_exporter": "python",
   "pygments_lexer": "ipython3",
   "version": "3.6.3"
  }
 },
 "nbformat": 4,
 "nbformat_minor": 2
}
