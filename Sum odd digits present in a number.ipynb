{
 "cells": [
  {
   "cell_type": "code",
   "execution_count": 5,
   "metadata": {},
   "outputs": [
    {
     "name": "stdout",
     "output_type": "stream",
     "text": [
      "Enter a number : 3498527\n",
      "The sum of odd digits in the given number 3498527 is 24\n"
     ]
    }
   ],
   "source": [
    "#Sum of Odd digits in a given number\n",
    "n=int(input(\"Enter a number : \"))\n",
    "x=n\n",
    "sum=0\n",
    "i=0\n",
    "z=list()\n",
    "while n>0:\n",
    "    a=int(n)%10\n",
    "    if a%2!=0:\n",
    "        sum=sum+a\n",
    "        z.append(a)\n",
    "    n=n/10\n",
    "print(\"The sum of odd digits in the given number \" + str(x)+\" is \"+str(sum))"
   ]
  },
  {
   "cell_type": "code",
   "execution_count": null,
   "metadata": {},
   "outputs": [],
   "source": []
  },
  {
   "cell_type": "code",
   "execution_count": null,
   "metadata": {},
   "outputs": [],
   "source": []
  }
 ],
 "metadata": {
  "kernelspec": {
   "display_name": "Python 3",
   "language": "python",
   "name": "python3"
  },
  "language_info": {
   "codemirror_mode": {
    "name": "ipython",
    "version": 3
   },
   "file_extension": ".py",
   "mimetype": "text/x-python",
   "name": "python",
   "nbconvert_exporter": "python",
   "pygments_lexer": "ipython3",
   "version": "3.6.3"
  }
 },
 "nbformat": 4,
 "nbformat_minor": 2
}
