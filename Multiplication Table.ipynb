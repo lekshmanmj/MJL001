{
 "cells": [
  {
   "cell_type": "code",
   "execution_count": 66,
   "metadata": {},
   "outputs": [
    {
     "name": "stdout",
     "output_type": "stream",
     "text": [
      "Table from : 2\n",
      "        To : 8\n",
      "1 * 2 = 2      1 * 3 = 3      1 * 4 = 4      1 * 5 = 5      1 * 6 = 6      1 * 7 = 7      \n",
      "2 * 2 = 4      2 * 3 = 6      2 * 4 = 8      2 * 5 = 10     2 * 6 = 12     2 * 7 = 14     \n",
      "3 * 2 = 6      3 * 3 = 9      3 * 4 = 12     3 * 5 = 15     3 * 6 = 18     3 * 7 = 21     \n",
      "4 * 2 = 8      4 * 3 = 12     4 * 4 = 16     4 * 5 = 20     4 * 6 = 24     4 * 7 = 28     \n",
      "5 * 2 = 10     5 * 3 = 15     5 * 4 = 20     5 * 5 = 25     5 * 6 = 30     5 * 7 = 35     \n",
      "6 * 2 = 12     6 * 3 = 18     6 * 4 = 24     6 * 5 = 30     6 * 6 = 36     6 * 7 = 42     \n",
      "7 * 2 = 14     7 * 3 = 21     7 * 4 = 28     7 * 5 = 35     7 * 6 = 42     7 * 7 = 49     \n",
      "8 * 2 = 16     8 * 3 = 24     8 * 4 = 32     8 * 5 = 40     8 * 6 = 48     8 * 7 = 56     \n",
      "9 * 2 = 18     9 * 3 = 27     9 * 4 = 36     9 * 5 = 45     9 * 6 = 54     9 * 7 = 63     \n"
     ]
    }
   ],
   "source": [
    "#python code to print any multiplication table\n",
    "\n",
    "x=int(input(\"Table from : \"))\n",
    "y=int(input(\"        To : \"))\n",
    "for i in range(1,10):\n",
    "    for j in range(x,y):\n",
    "        \"\"\"If condition is used to bring a fair alignment while printing\n",
    "           Yet Alignment may vary in some cases\"\"\"\n",
    "        if len(str(i*j))!=1:\n",
    "            print(str(i)+ \" * \"+ str(j) + \" = \"+ str(i*j) ,end=\"     \")\n",
    "        elif len(str(i))==1:\n",
    "            print(str(i)+ \" * \"+ str(j) + \" = \"+ str(i*j) ,end=\"      \")\n",
    "    print(\"\")"
   ]
  },
  {
   "cell_type": "code",
   "execution_count": null,
   "metadata": {},
   "outputs": [],
   "source": []
  },
  {
   "cell_type": "code",
   "execution_count": null,
   "metadata": {},
   "outputs": [],
   "source": []
  }
 ],
 "metadata": {
  "kernelspec": {
   "display_name": "Python 3",
   "language": "python",
   "name": "python3"
  },
  "language_info": {
   "codemirror_mode": {
    "name": "ipython",
    "version": 3
   },
   "file_extension": ".py",
   "mimetype": "text/x-python",
   "name": "python",
   "nbconvert_exporter": "python",
   "pygments_lexer": "ipython3",
   "version": "3.6.3"
  }
 },
 "nbformat": 4,
 "nbformat_minor": 2
}
