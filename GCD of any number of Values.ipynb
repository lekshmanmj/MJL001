{
 "cells": [
  {
   "cell_type": "code",
   "execution_count": 9,
   "metadata": {
    "scrolled": true
   },
   "outputs": [
    {
     "name": "stdout",
     "output_type": "stream",
     "text": [
      "Enter number of values3\n",
      "Enter the value 1 : 60500\n",
      "Enter the value 2 : 150000\n",
      "Enter the value 3 : 750\n",
      "GCD of given 3 value is : 250\n"
     ]
    }
   ],
   "source": [
    "#Declaring variables as list\n",
    "a=list()\n",
    "b=list()\n",
    "\n",
    "#Getting no. of values for which GCD is to be calculated\n",
    "n=int(input(\"Enter number of values\"))\n",
    "\n",
    "#Getting elements of list a\n",
    "for i in range(0,n):\n",
    "    #inserting elements as string\n",
    "    a.insert(i,input(\"Enter the value \" + str(i+1) + \" : \"))\n",
    "    #computing the length of each string in a\n",
    "    b.insert(i,int(len(a[i])))\n",
    "    #converting the string elements to integer format \n",
    "    a.insert(i,int(a[i]))\n",
    "    #computing the highest possible limit\n",
    "    x=10**min(b)\n",
    "#clearing b to reuse it\n",
    "b.clear()\n",
    "#Iterating with all possible numbers\n",
    "for i in range(1,x):\n",
    "    z=0\n",
    "    #Checking the number is divisible by i\n",
    "    for j in range(0,n):\n",
    "        if a[j]%i != 0:\n",
    "            z=z+1   \n",
    "    if z==0:\n",
    "        #insering the i value for which all the elements in a are divisible by the same i \n",
    "        b.insert(i-1,i)\n",
    "#max value among b is printed as Greatest Common Divisor of the given values\n",
    "print(\"GCD of given \"+ str(n) +\" value is : \"+ str(max(b)))\n",
    "\n"
   ]
  },
  {
   "cell_type": "code",
   "execution_count": null,
   "metadata": {},
   "outputs": [],
   "source": []
  },
  {
   "cell_type": "code",
   "execution_count": null,
   "metadata": {},
   "outputs": [],
   "source": []
  }
 ],
 "metadata": {
  "kernelspec": {
   "display_name": "Python 3",
   "language": "python",
   "name": "python3"
  },
  "language_info": {
   "codemirror_mode": {
    "name": "ipython",
    "version": 3
   },
   "file_extension": ".py",
   "mimetype": "text/x-python",
   "name": "python",
   "nbconvert_exporter": "python",
   "pygments_lexer": "ipython3",
   "version": "3.6.3"
  }
 },
 "nbformat": 4,
 "nbformat_minor": 2
}
