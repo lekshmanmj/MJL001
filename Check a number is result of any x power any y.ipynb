{
 "cells": [
  {
   "cell_type": "markdown",
   "metadata": {},
   "source": [
    "### Check a number is result of any x power any y "
   ]
  },
  {
   "cell_type": "code",
   "execution_count": 1,
   "metadata": {},
   "outputs": [
    {
     "name": "stdout",
     "output_type": "stream",
     "text": [
      "Enter the number to check whether it a result of any x power any y : 64\n",
      "64 is result of 8 power 2.\n",
      "Yes\n"
     ]
    }
   ],
   "source": [
    "number = int(input('Enter the number to check whether it a result of any x power any y : '))\n",
    "def check(number):\n",
    "    for i in range(2,11):\n",
    "        for j in range(2,11):\n",
    "            if j**i==number:\n",
    "                print('%s is result of %s power %s.'%(str(number),str(j),str(i)))\n",
    "                return 1\n",
    "if check(number) == 1:\n",
    "    print('Yes')\n",
    "else:\n",
    "    print('No')"
   ]
  }
 ],
 "metadata": {
  "kernelspec": {
   "display_name": "Python 3",
   "language": "python",
   "name": "python3"
  },
  "language_info": {
   "codemirror_mode": {
    "name": "ipython",
    "version": 3
   },
   "file_extension": ".py",
   "mimetype": "text/x-python",
   "name": "python",
   "nbconvert_exporter": "python",
   "pygments_lexer": "ipython3",
   "version": "3.7.0"
  }
 },
 "nbformat": 4,
 "nbformat_minor": 2
}
